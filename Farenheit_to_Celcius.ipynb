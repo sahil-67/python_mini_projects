{
 "cells": [
  {
   "cell_type": "code",
   "execution_count": 1,
   "id": "27f26aa0",
   "metadata": {},
   "outputs": [],
   "source": [
    "# Farenheit to Celcius Convertor"
   ]
  },
  {
   "cell_type": "code",
   "execution_count": 4,
   "id": "a99e965b",
   "metadata": {},
   "outputs": [
    {
     "name": "stdout",
     "output_type": "stream",
     "text": [
      "Enter the temperature in Farenheits: 37.5\n"
     ]
    }
   ],
   "source": [
    "f = float(input(\"Enter the temperature in Farenheits: \"))"
   ]
  },
  {
   "cell_type": "code",
   "execution_count": 5,
   "id": "57e5330e",
   "metadata": {},
   "outputs": [],
   "source": [
    "c = ((f-32)*5)/9"
   ]
  },
  {
   "cell_type": "code",
   "execution_count": 11,
   "id": "da42657b",
   "metadata": {},
   "outputs": [
    {
     "name": "stdout",
     "output_type": "stream",
     "text": [
      "37.5 degree farenheits is equal to 3.0555555555555554 degree celcius\n"
     ]
    }
   ],
   "source": [
    "print(f, \"degree farenheits\" , \"is equal to\" , c ,\"degree celcius\")"
   ]
  },
  {
   "cell_type": "code",
   "execution_count": 12,
   "id": "88fe5beb",
   "metadata": {},
   "outputs": [],
   "source": [
    "# Farenheit to Celcius Convertor with the help of function"
   ]
  },
  {
   "cell_type": "code",
   "execution_count": 13,
   "id": "96792e20",
   "metadata": {},
   "outputs": [],
   "source": [
    "def f2c(x):\n",
    "    xx = float(x)\n",
    "    xxx = ((xx-32)*5)/9\n",
    "    return xxx"
   ]
  },
  {
   "cell_type": "code",
   "execution_count": 14,
   "id": "aec1f98f",
   "metadata": {},
   "outputs": [
    {
     "data": {
      "text/plain": [
       "3.0555555555555554"
      ]
     },
     "execution_count": 14,
     "metadata": {},
     "output_type": "execute_result"
    }
   ],
   "source": [
    "f2c(37.5)"
   ]
  }
 ],
 "metadata": {
  "kernelspec": {
   "display_name": "Python 3 (ipykernel)",
   "language": "python",
   "name": "python3"
  },
  "language_info": {
   "codemirror_mode": {
    "name": "ipython",
    "version": 3
   },
   "file_extension": ".py",
   "mimetype": "text/x-python",
   "name": "python",
   "nbconvert_exporter": "python",
   "pygments_lexer": "ipython3",
   "version": "3.9.7"
  }
 },
 "nbformat": 4,
 "nbformat_minor": 5
}
