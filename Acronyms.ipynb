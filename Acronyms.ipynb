{
 "cells": [
  {
   "cell_type": "code",
   "execution_count": 36,
   "id": "2d179a46",
   "metadata": {},
   "outputs": [
    {
     "name": "stdout",
     "output_type": "stream",
     "text": [
      "Enter your word: Mohd Sahil\n",
      "Acronym for the sentence is MS\n"
     ]
    }
   ],
   "source": [
    "# Acronyms using first letter of the word\n",
    "user = input(\"Enter your word: \")\n",
    "list = user.split()\n",
    "x = \"\"\n",
    "for i in list:\n",
    "    x = x + str(i[0]).upper()\n",
    "print(\"Acronym for the sentence is \" + x)"
   ]
  },
  {
   "cell_type": "code",
   "execution_count": 27,
   "id": "16c833ac",
   "metadata": {},
   "outputs": [
    {
     "name": "stdout",
     "output_type": "stream",
     "text": [
      "Enter your word: Mohd Sahil\n"
     ]
    },
    {
     "data": {
      "text/plain": [
       "'DL'"
      ]
     },
     "execution_count": 27,
     "metadata": {},
     "output_type": "execute_result"
    }
   ],
   "source": [
    "#Acronym using last letter of the word\n",
    "user1 = input(\"Enter your word: \")\n",
    "list1 = user1.split()\n",
    "x1 = \"\"\n",
    "for i in list1:\n",
    "    x1 = x1 + str(i[-1]).upper()\n",
    "x1"
   ]
  },
  {
   "cell_type": "code",
   "execution_count": 31,
   "id": "7fba9d09",
   "metadata": {
    "scrolled": true
   },
   "outputs": [
    {
     "name": "stdout",
     "output_type": "stream",
     "text": [
      "Enter your sentence: Mohd Of of sahil\n"
     ]
    },
    {
     "data": {
      "text/plain": [
       "'MS'"
      ]
     },
     "execution_count": 31,
     "metadata": {},
     "output_type": "execute_result"
    }
   ],
   "source": [
    "#Acronym using first letter of the word but not including some words like 'of'/'Of'\n",
    "user_input = input(\"Enter your sentence: \")\n",
    "user_input = user_input.replace(\"of\",\"\")\n",
    "user_input = user_input.replace(\"Of\",\"\")\n",
    "splitted_list = user_input.split()\n",
    "\n",
    "\n",
    "y = \"\"\n",
    "for i in splitted_list:\n",
    "    y = y + str(i[0]).upper()\n",
    "y"
   ]
  }
 ],
 "metadata": {
  "kernelspec": {
   "display_name": "Python 3 (ipykernel)",
   "language": "python",
   "name": "python3"
  },
  "language_info": {
   "codemirror_mode": {
    "name": "ipython",
    "version": 3
   },
   "file_extension": ".py",
   "mimetype": "text/x-python",
   "name": "python",
   "nbconvert_exporter": "python",
   "pygments_lexer": "ipython3",
   "version": "3.9.7"
  }
 },
 "nbformat": 4,
 "nbformat_minor": 5
}
