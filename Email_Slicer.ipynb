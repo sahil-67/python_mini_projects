{
 "cells": [
  {
   "cell_type": "code",
   "execution_count": 24,
   "id": "5f5e5639",
   "metadata": {},
   "outputs": [
    {
     "name": "stdout",
     "output_type": "stream",
     "text": [
      "Enter your email: er.sahil67@gmail.com\n",
      "your username is er.sahil67 and your domain name is gmail.com\n"
     ]
    }
   ],
   "source": [
    "email_id = input(\"Enter your email: \")\n",
    "user_name = email_id[:email_id.index('@')]\n",
    "domain_name = email_id[email_id.index('@')+1:]\n",
    "print(f'your username is {user_name} and your domain name is {domain_name}')"
   ]
  }
 ],
 "metadata": {
  "kernelspec": {
   "display_name": "Python 3 (ipykernel)",
   "language": "python",
   "name": "python3"
  },
  "language_info": {
   "codemirror_mode": {
    "name": "ipython",
    "version": 3
   },
   "file_extension": ".py",
   "mimetype": "text/x-python",
   "name": "python",
   "nbconvert_exporter": "python",
   "pygments_lexer": "ipython3",
   "version": "3.9.7"
  }
 },
 "nbformat": 4,
 "nbformat_minor": 5
}
