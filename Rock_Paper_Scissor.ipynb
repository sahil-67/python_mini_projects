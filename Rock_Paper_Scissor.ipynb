{
 "cells": [
  {
   "cell_type": "code",
   "execution_count": 1,
   "id": "cee07dc2",
   "metadata": {},
   "outputs": [],
   "source": [
    "import random"
   ]
  },
  {
   "cell_type": "code",
   "execution_count": 28,
   "id": "25237a21",
   "metadata": {},
   "outputs": [
    {
     "name": "stdout",
     "output_type": "stream",
     "text": [
      "Enter your choice : Rock\n",
      "You won\n"
     ]
    }
   ],
   "source": [
    "choices = [\"Rock\",\"Paper\",\"Scissor\"]\n",
    "comp = random.choice(choices)\n",
    "player = input(\"Enter your choice : \")\n",
    "if comp == player:\n",
    "    print(\"Tie\")\n",
    "    \n",
    "elif comp == \"Rock\":\n",
    "    if player == \"Scissor\":\n",
    "        print(\"Computer won\")\n",
    "    else:\n",
    "        print(\"You won\")\n",
    "elif comp == \"Scissor\":\n",
    "    if player == \"Rock\":\n",
    "        print(\"You won\")\n",
    "    else:\n",
    "        print(\"Computer won\")\n",
    "elif comp == \"Paper\":\n",
    "    if player == \"Rock\":\n",
    "        print(\"Computer won\")\n",
    "    else:\n",
    "        print(\"You won\")\n"
   ]
  }
 ],
 "metadata": {
  "kernelspec": {
   "display_name": "Python 3 (ipykernel)",
   "language": "python",
   "name": "python3"
  },
  "language_info": {
   "codemirror_mode": {
    "name": "ipython",
    "version": 3
   },
   "file_extension": ".py",
   "mimetype": "text/x-python",
   "name": "python",
   "nbconvert_exporter": "python",
   "pygments_lexer": "ipython3",
   "version": "3.9.7"
  }
 },
 "nbformat": 4,
 "nbformat_minor": 5
}
