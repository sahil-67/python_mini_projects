{
 "cells": [
  {
   "cell_type": "code",
   "execution_count": 7,
   "id": "6dd34ce1",
   "metadata": {},
   "outputs": [],
   "source": [
    "# BMI is the ratio of weight in kgs and square of height in m^2"
   ]
  },
  {
   "cell_type": "code",
   "execution_count": 12,
   "id": "07cce36c",
   "metadata": {},
   "outputs": [
    {
     "name": "stdout",
     "output_type": "stream",
     "text": [
      "Enter your weight in kgs: 77\n",
      "Enter your height in m: 1.8\n"
     ]
    }
   ],
   "source": [
    "Weight = float(input(\"Enter your weight in kgs: \"))\n",
    "Height = float(input(\"Enter your height in m: \"))"
   ]
  },
  {
   "cell_type": "code",
   "execution_count": 13,
   "id": "91c38017",
   "metadata": {},
   "outputs": [
    {
     "data": {
      "text/plain": [
       "23.76543209876543"
      ]
     },
     "execution_count": 13,
     "metadata": {},
     "output_type": "execute_result"
    }
   ],
   "source": [
    "BMI = Weight/(Height*Height)\n",
    "BMI"
   ]
  },
  {
   "cell_type": "code",
   "execution_count": 14,
   "id": "f12eedf4",
   "metadata": {},
   "outputs": [],
   "source": [
    "# If BMI < 18.5, Underweight, \n",
    "# BMI is b/w 18.5 and 24.9, Healthy,\n",
    "# BMI is b/w 24.5 and 29.9, Overweight,\n",
    "# BMI is above 29.9, Obese"
   ]
  },
  {
   "cell_type": "code",
   "execution_count": 15,
   "id": "e61ef4fa",
   "metadata": {},
   "outputs": [
    {
     "name": "stdout",
     "output_type": "stream",
     "text": [
      "You are healthy\n"
     ]
    }
   ],
   "source": [
    "if BMI <= 18.5:\n",
    "    print(\"You are underweight\")\n",
    "elif BMI > 18.5 and BMI < 25:\n",
    "    print(\"You are healthy\")\n",
    "elif BMI>=25 and BMI<30:\n",
    "    print(\"You are overweight\")\n",
    "else:\n",
    "    print(\"You are obese\")"
   ]
  },
  {
   "cell_type": "code",
   "execution_count": null,
   "id": "2f069633",
   "metadata": {},
   "outputs": [],
   "source": []
  }
 ],
 "metadata": {
  "kernelspec": {
   "display_name": "Python 3 (ipykernel)",
   "language": "python",
   "name": "python3"
  },
  "language_info": {
   "codemirror_mode": {
    "name": "ipython",
    "version": 3
   },
   "file_extension": ".py",
   "mimetype": "text/x-python",
   "name": "python",
   "nbconvert_exporter": "python",
   "pygments_lexer": "ipython3",
   "version": "3.9.7"
  }
 },
 "nbformat": 4,
 "nbformat_minor": 5
}
